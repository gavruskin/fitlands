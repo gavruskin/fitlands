{
 "cells": [
  {
   "cell_type": "markdown",
   "metadata": {},
   "source": [
    "# Interactions of order four and higher\n",
    "\n",
    "Here we explain how to use [our rank order method](https://doi.org/10.1101/137372) to detect four-way interactions from rank orders of genotypes.\n",
    "We also show how to detect total _n_-way interactions from rank orders, for arbitrary _n_.\n",
    "Please let us know (on [GitHub](https://github.com/gavruskin/fitlands) or via [email](mailto:alex@gavruskin.com)) if you wish to see this software extended with some particular functionality. We welcome feedback!\n",
    "\n",
    "For the tasks just mentioned, the necessary functions are the following:"
   ]
  },
  {
   "cell_type": "code",
   "execution_count": 1,
   "metadata": {
    "collapsed": false
   },
   "outputs": [],
   "source": [
    "from four_way_interactions import four_way_from_ranking\n",
    "from total_n_way_interaction import total_n_way_interaction"
   ]
  },
  {
   "cell_type": "markdown",
   "metadata": {},
   "source": [
    "## Four-way interaction coordinates\n",
    "\n",
    "To detect whether your rank order implies _u_-interaction given by an interaction coordinate _u_, run function `four_way_from_ranking` on the pair `(w, u)`, where `w` is the rank order and `u` is one of the following interaction coordinates.\n",
    "(In this list we abuse the notation and use genotypes instead of their fitnesses.)\n",
    "\n",
    "```\n",
    "u_0011 = 0000 + 0100 + 1000 + 1100 + 0011 + 0111 + 1011 + 1111 -\n",
    "         0001 - 0101 - 1001 - 1101 - 0010 - 0110 - 1010 - 1110\n",
    "u_0101 = 0000 + 0010 + 1000 + 1010 + 0101 + 0111 + 1101 + 1111 -\n",
    "         0001 - 0011 - 1001 - 1011 - 0100 - 0110 - 1100 - 1110\n",
    "u_0110 = 0000 + 0001 + 1000 + 1001 + 0110 + 0111 + 1110 + 1111 -\n",
    "         0010 - 0011 - 1010 - 1011 - 0100 - 0101 - 1100 - 1101\n",
    "u_1001 = 0000 + 0010 + 0100 + 0110 + 1001 + 1011 + 1101 + 1111 -\n",
    "         0001 - 0011 - 0101 - 0111 - 1000 - 1010 - 1100 - 1110\n",
    "u_1010 = 0000 + 0001 + 0100 + 0101 + 1010 + 1011 + 1110 + 1111 -\n",
    "         0010 - 0011 - 0110 - 0111 - 1000 - 1001 - 1100 - 1101\n",
    "u_1100 = 0000 + 0001 + 0010 + 0011 + 1100 + 1101 + 1110 + 1111 -\n",
    "         0100 - 0101 - 0110 - 0111 - 1000 - 1001 - 1010 - 1011\n",
    "u_0111 = 0000 + 1000 + 0011 + 1011 + 0101 + 1101 + 0110 + 1110 -\n",
    "         0001 - 1001 - 0010 - 1010 - 0100 - 1100 - 0111 - 1111\n",
    "u_1011 = 0000 + 0100 + 0011 + 0111 + 1001 + 1101 + 1010 + 1110 -\n",
    "         0001 - 0101 - 0010 - 0110 - 1000 - 1100 - 1011 - 1111\n",
    "u_1101 = 0000 + 0010 + 0101 + 0111 + 1001 + 1011 + 1100 + 1110 -\n",
    "         0001 - 0011 - 0100 - 0110 - 1000 - 1010 - 1101 - 1111\n",
    "u_1110 = 0000 + 0001 + 0110 + 0111 + 1010 + 1011 + 1100 + 1101 -\n",
    "         0010 - 0011 - 0100 - 0101 - 1000 - 1001 - 1110 - 1111\n",
    "u_1111 = 0000 + 0011 + 0101 + 0110 + 1001 + 1010 + 1100 + 1111 -\n",
    "         0001 - 0010 - 0100 - 1000 - 0111 - 1011 - 1101 - 1110\n",
    "```\n",
    "Note that the redundant zeros have to be suppressed in all genotypes and interaction coordinates, as in the example below.\n",
    "\n",
    "**Example:** To detect whether the rank order\n",
    "```\n",
    "0000 > 0001 > 0010 > 0011 > 0110 > 0111 > 1000 > 1001 >\n",
    "1010 > 1011 > 1100 > 1101 > 1110 > 1111 > 0100 > 0101\n",
    "```\n",
    "implies _u_-interaction, where _u_ is `\n",
    "u_0110`, run the following:\n"
   ]
  },
  {
   "cell_type": "code",
   "execution_count": 2,
   "metadata": {
    "collapsed": false
   },
   "outputs": [
    {
     "name": "stdout",
     "output_type": "stream",
     "text": [
      "[Positive interaction, Negative interaction] = [True, False]\n"
     ]
    }
   ],
   "source": [
    "interaction = four_way_from_ranking([0, 1, 10, 11, 110, 111, 1000, 1001,\n",
    "                                     1010, 1011, 1100, 1101, 1110, 1111, 100, 101], 110)\n",
    "print(\"[Positive interaction, Negative interaction] = \" + str(interaction))"
   ]
  },
  {
   "cell_type": "markdown",
   "metadata": {},
   "source": [
    "The latter `110` in the `four_way_from_ranking` call corresponds to _u_.\n",
    "The output is a pair of truth values corresponding to the positive and negative interaction, respectively. \n",
    "In the example above, the output means that the rank order implies positive interaction."
   ]
  },
  {
   "cell_type": "markdown",
   "metadata": {},
   "source": [
    "## Total n-way interaction\n",
    "\n",
    "To detect whether your rank order implies total n-way interaction, run function `total_n_way_interaction` on the rank order given by a list in binary format.\n",
    "\n",
    "**Example:** To detect whether the rank order\n",
    "```\n",
    "00001 > 00010 > 00011 > 00100 > 00101 > 00110 > 00111 > 01000 >\n",
    "01001 > 01010 > 01011 > 01100 > 01101 > 01110 > 01111 > 10000 >\n",
    "10001 > 10010 > 10011 > 10100 > 10101 > 10110 > 10111 > 11000 >\n",
    "11001 > 11010 > 11011 > 11100 > 11101 > 11110 > 11111 > 00000\n",
    "```\n",
    "implies total 5-way interaction, run the following:"
   ]
  },
  {
   "cell_type": "code",
   "execution_count": 3,
   "metadata": {
    "collapsed": false
   },
   "outputs": [
    {
     "name": "stdout",
     "output_type": "stream",
     "text": [
      "[Positive interaction, Negative interaction] = [False, True]\n"
     ]
    }
   ],
   "source": [
    "interaction = total_n_way_interaction([1, 10, 11, 100, 101, 110, 111, 1000,\n",
    "                                       1001, 1010, 1011, 1100, 1101, 1110, 1111, 10000,\n",
    "                                       10001, 10010, 10011, 10100, 10101, 10110, 10111, 11000,\n",
    "                                       11001, 11010, 11011, 11100, 11101, 11110, 11111, 0])\n",
    "print(\"[Positive interaction, Negative interaction] = \" + str(interaction))"
   ]
  },
  {
   "cell_type": "markdown",
   "metadata": {},
   "source": [
    "The output is a pair of truth values corresponding to the positive and negative interaction, respectively.\n",
    "In the example above, the output means that the rank order implies negative interaction.\n",
    "Both `False` would mean that the rank order does not imply interaction."
   ]
  },
  {
   "cell_type": "markdown",
   "metadata": {},
   "source": [
    "## _Plasmodium vivax_ dihydrofolate reducatase (DHFR)\n",
    "\n",
    "Here we analyze the DHFR data from (Ogbunugafor and Hartl 2016, Table S3).\n",
    "The index `i` in variable `ranking_i` corresponds to the drug concentration."
   ]
  },
  {
   "cell_type": "code",
   "execution_count": 4,
   "metadata": {
    "collapsed": false
   },
   "outputs": [],
   "source": [
    "ranking_9 = [1111, 1110, 1010, 100, 1000, 1100, 111, 110, 101, 11, 1001, 10, 1101, 1011, 1, 0]"
   ]
  },
  {
   "cell_type": "code",
   "execution_count": 5,
   "metadata": {
    "collapsed": false
   },
   "outputs": [
    {
     "name": "stdout",
     "output_type": "stream",
     "text": [
      "[False, False]\n"
     ]
    }
   ],
   "source": [
    "u_0011 = four_way_from_ranking(ranking_9, 11)\n",
    "print(u_0011)"
   ]
  },
  {
   "cell_type": "code",
   "execution_count": 6,
   "metadata": {
    "collapsed": false
   },
   "outputs": [
    {
     "name": "stdout",
     "output_type": "stream",
     "text": [
      "[False, False]\n"
     ]
    }
   ],
   "source": [
    "u_0101 = four_way_from_ranking(ranking_9, 101)\n",
    "print(u_0101)"
   ]
  },
  {
   "cell_type": "code",
   "execution_count": 7,
   "metadata": {
    "collapsed": false
   },
   "outputs": [
    {
     "name": "stdout",
     "output_type": "stream",
     "text": [
      "[False, False]\n"
     ]
    }
   ],
   "source": [
    "u_0110 = four_way_from_ranking(ranking_9, 110)\n",
    "print(u_0110)"
   ]
  },
  {
   "cell_type": "code",
   "execution_count": 8,
   "metadata": {
    "collapsed": false
   },
   "outputs": [
    {
     "name": "stdout",
     "output_type": "stream",
     "text": [
      "[False, False]\n"
     ]
    }
   ],
   "source": [
    "u_1001 = four_way_from_ranking(ranking_9, 1001)\n",
    "print(u_1001)"
   ]
  },
  {
   "cell_type": "code",
   "execution_count": 9,
   "metadata": {
    "collapsed": false
   },
   "outputs": [
    {
     "name": "stdout",
     "output_type": "stream",
     "text": [
      "[False, False]\n"
     ]
    }
   ],
   "source": [
    "u_1010 = four_way_from_ranking(ranking_9, 1010)\n",
    "print(u_1010)"
   ]
  },
  {
   "cell_type": "code",
   "execution_count": 10,
   "metadata": {
    "collapsed": false
   },
   "outputs": [
    {
     "name": "stdout",
     "output_type": "stream",
     "text": [
      "[False, False]\n"
     ]
    }
   ],
   "source": [
    "u_1100 = four_way_from_ranking(ranking_9, 1100)\n",
    "print(u_1100)"
   ]
  },
  {
   "cell_type": "code",
   "execution_count": 11,
   "metadata": {
    "collapsed": false
   },
   "outputs": [
    {
     "name": "stdout",
     "output_type": "stream",
     "text": [
      "[False, True]\n"
     ]
    }
   ],
   "source": [
    "u_1110 = four_way_from_ranking(ranking_9, 1110)\n",
    "print(u_1110)"
   ]
  },
  {
   "cell_type": "code",
   "execution_count": 12,
   "metadata": {
    "collapsed": false
   },
   "outputs": [
    {
     "name": "stdout",
     "output_type": "stream",
     "text": [
      "[False, True]\n"
     ]
    }
   ],
   "source": [
    "u_1101 = four_way_from_ranking(ranking_9, 1101)\n",
    "print(u_1101)"
   ]
  },
  {
   "cell_type": "code",
   "execution_count": 13,
   "metadata": {
    "collapsed": false
   },
   "outputs": [
    {
     "name": "stdout",
     "output_type": "stream",
     "text": [
      "[False, True]\n"
     ]
    }
   ],
   "source": [
    "u_0111 = four_way_from_ranking(ranking_9, 111)\n",
    "print(u_0111)"
   ]
  },
  {
   "cell_type": "code",
   "execution_count": 14,
   "metadata": {
    "collapsed": false
   },
   "outputs": [
    {
     "name": "stdout",
     "output_type": "stream",
     "text": [
      "[False, False]\n"
     ]
    }
   ],
   "source": [
    "u_1011 = four_way_from_ranking(ranking_9, 1011)\n",
    "print(u_1011)"
   ]
  },
  {
   "cell_type": "code",
   "execution_count": 15,
   "metadata": {
    "collapsed": false
   },
   "outputs": [
    {
     "name": "stdout",
     "output_type": "stream",
     "text": [
      "[False, False]\n"
     ]
    }
   ],
   "source": [
    "u_1111 = four_way_from_ranking(ranking_9, 1111)\n",
    "print(u_1111)"
   ]
  },
  {
   "cell_type": "code",
   "execution_count": 16,
   "metadata": {
    "collapsed": true
   },
   "outputs": [],
   "source": [
    "ranking_8 = [1111, 1110, 1010, 111, 110, 11, 100, 1000, 1100, 10, 101, 1001, 1011, 1101, 1, 0]"
   ]
  },
  {
   "cell_type": "code",
   "execution_count": 17,
   "metadata": {
    "collapsed": false
   },
   "outputs": [
    {
     "name": "stdout",
     "output_type": "stream",
     "text": [
      "[False, False]\n"
     ]
    }
   ],
   "source": [
    "u_0011 = four_way_from_ranking(ranking_8, 11)\n",
    "print(u_0011)"
   ]
  },
  {
   "cell_type": "code",
   "execution_count": 18,
   "metadata": {
    "collapsed": false
   },
   "outputs": [
    {
     "name": "stdout",
     "output_type": "stream",
     "text": [
      "[False, False]\n"
     ]
    }
   ],
   "source": [
    "u_0101 = four_way_from_ranking(ranking_8, 101)\n",
    "print(u_0101)"
   ]
  },
  {
   "cell_type": "code",
   "execution_count": 19,
   "metadata": {
    "collapsed": false
   },
   "outputs": [
    {
     "name": "stdout",
     "output_type": "stream",
     "text": [
      "[False, False]\n"
     ]
    }
   ],
   "source": [
    "u_0110 = four_way_from_ranking(ranking_8, 110)\n",
    "print(u_0110)"
   ]
  },
  {
   "cell_type": "code",
   "execution_count": 20,
   "metadata": {
    "collapsed": false
   },
   "outputs": [
    {
     "name": "stdout",
     "output_type": "stream",
     "text": [
      "[False, False]\n"
     ]
    }
   ],
   "source": [
    "u_1001 = four_way_from_ranking(ranking_8, 1001)\n",
    "print(u_1001)"
   ]
  },
  {
   "cell_type": "code",
   "execution_count": 21,
   "metadata": {
    "collapsed": false
   },
   "outputs": [
    {
     "name": "stdout",
     "output_type": "stream",
     "text": [
      "[False, False]\n"
     ]
    }
   ],
   "source": [
    "u_1010 = four_way_from_ranking(ranking_8, 1010)\n",
    "print(u_1010)"
   ]
  },
  {
   "cell_type": "code",
   "execution_count": 22,
   "metadata": {
    "collapsed": false
   },
   "outputs": [
    {
     "name": "stdout",
     "output_type": "stream",
     "text": [
      "[False, False]\n"
     ]
    }
   ],
   "source": [
    "u_1100 = four_way_from_ranking(ranking_8, 1100)\n",
    "print(u_1100)"
   ]
  },
  {
   "cell_type": "code",
   "execution_count": 23,
   "metadata": {
    "collapsed": false
   },
   "outputs": [
    {
     "name": "stdout",
     "output_type": "stream",
     "text": [
      "[False, False]\n"
     ]
    }
   ],
   "source": [
    "u_1110 = four_way_from_ranking(ranking_8, 1110)\n",
    "print(u_1110)"
   ]
  },
  {
   "cell_type": "code",
   "execution_count": 24,
   "metadata": {
    "collapsed": false
   },
   "outputs": [
    {
     "name": "stdout",
     "output_type": "stream",
     "text": [
      "[False, False]\n"
     ]
    }
   ],
   "source": [
    "u_1101 = four_way_from_ranking(ranking_8, 1101)\n",
    "print(u_1101)"
   ]
  },
  {
   "cell_type": "code",
   "execution_count": 25,
   "metadata": {
    "collapsed": false
   },
   "outputs": [
    {
     "name": "stdout",
     "output_type": "stream",
     "text": [
      "[False, True]\n"
     ]
    }
   ],
   "source": [
    "u_0111 = four_way_from_ranking(ranking_8, 111)\n",
    "print(u_0111)"
   ]
  },
  {
   "cell_type": "code",
   "execution_count": 26,
   "metadata": {
    "collapsed": false
   },
   "outputs": [
    {
     "name": "stdout",
     "output_type": "stream",
     "text": [
      "[False, False]\n"
     ]
    }
   ],
   "source": [
    "u_1011 = four_way_from_ranking(ranking_8, 1011)\n",
    "print(u_1011)"
   ]
  },
  {
   "cell_type": "code",
   "execution_count": 27,
   "metadata": {
    "collapsed": false
   },
   "outputs": [
    {
     "name": "stdout",
     "output_type": "stream",
     "text": [
      "[False, False]\n"
     ]
    }
   ],
   "source": [
    "u_1111 = four_way_from_ranking(ranking_8, 1111)\n",
    "print(u_1111)"
   ]
  },
  {
   "cell_type": "code",
   "execution_count": 28,
   "metadata": {
    "collapsed": true
   },
   "outputs": [],
   "source": [
    "ranking_7 = [1111, 111, 1110, 1010, 11, 1011, 110, 1000, 10, 1100, 101, 1001, 1101, 100, 1, 0]"
   ]
  },
  {
   "cell_type": "code",
   "execution_count": 29,
   "metadata": {
    "collapsed": false
   },
   "outputs": [
    {
     "name": "stdout",
     "output_type": "stream",
     "text": [
      "[False, False]\n"
     ]
    }
   ],
   "source": [
    "u_0011 = four_way_from_ranking(ranking_7, 11)\n",
    "print(u_0011)"
   ]
  },
  {
   "cell_type": "code",
   "execution_count": 30,
   "metadata": {
    "collapsed": false
   },
   "outputs": [
    {
     "name": "stdout",
     "output_type": "stream",
     "text": [
      "[False, False]\n"
     ]
    }
   ],
   "source": [
    "u_0101 = four_way_from_ranking(ranking_7, 101)\n",
    "print(u_0101)"
   ]
  },
  {
   "cell_type": "code",
   "execution_count": 31,
   "metadata": {
    "collapsed": false
   },
   "outputs": [
    {
     "name": "stdout",
     "output_type": "stream",
     "text": [
      "[False, False]\n"
     ]
    }
   ],
   "source": [
    "u_0110 = four_way_from_ranking(ranking_7, 110)\n",
    "print(u_0110)"
   ]
  },
  {
   "cell_type": "code",
   "execution_count": 32,
   "metadata": {
    "collapsed": false
   },
   "outputs": [
    {
     "name": "stdout",
     "output_type": "stream",
     "text": [
      "[False, False]\n"
     ]
    }
   ],
   "source": [
    "u_1001 = four_way_from_ranking(ranking_7, 1001)\n",
    "print(u_1001)"
   ]
  },
  {
   "cell_type": "code",
   "execution_count": 33,
   "metadata": {
    "collapsed": false
   },
   "outputs": [
    {
     "name": "stdout",
     "output_type": "stream",
     "text": [
      "[False, False]\n"
     ]
    }
   ],
   "source": [
    "u_1010 = four_way_from_ranking(ranking_7, 1010)\n",
    "print(u_1010)"
   ]
  },
  {
   "cell_type": "code",
   "execution_count": 34,
   "metadata": {
    "collapsed": false
   },
   "outputs": [
    {
     "name": "stdout",
     "output_type": "stream",
     "text": [
      "[False, False]\n"
     ]
    }
   ],
   "source": [
    "u_1100 = four_way_from_ranking(ranking_7, 1100)\n",
    "print(u_1100)"
   ]
  },
  {
   "cell_type": "code",
   "execution_count": 35,
   "metadata": {
    "collapsed": false
   },
   "outputs": [
    {
     "name": "stdout",
     "output_type": "stream",
     "text": [
      "[False, False]\n"
     ]
    }
   ],
   "source": [
    "u_1110 = four_way_from_ranking(ranking_7, 1110)\n",
    "print(u_1110)"
   ]
  },
  {
   "cell_type": "code",
   "execution_count": 36,
   "metadata": {
    "collapsed": false
   },
   "outputs": [
    {
     "name": "stdout",
     "output_type": "stream",
     "text": [
      "[False, False]\n"
     ]
    }
   ],
   "source": [
    "u_1101 = four_way_from_ranking(ranking_7, 1101)\n",
    "print(u_1101)"
   ]
  },
  {
   "cell_type": "code",
   "execution_count": 37,
   "metadata": {
    "collapsed": false
   },
   "outputs": [
    {
     "name": "stdout",
     "output_type": "stream",
     "text": [
      "[False, False]\n"
     ]
    }
   ],
   "source": [
    "u_0111 = four_way_from_ranking(ranking_7, 111)\n",
    "print(u_0111)"
   ]
  },
  {
   "cell_type": "code",
   "execution_count": 38,
   "metadata": {
    "collapsed": false
   },
   "outputs": [
    {
     "name": "stdout",
     "output_type": "stream",
     "text": [
      "[False, False]\n"
     ]
    }
   ],
   "source": [
    "u_1011 = four_way_from_ranking(ranking_7, 1011)\n",
    "print(u_1011)"
   ]
  },
  {
   "cell_type": "code",
   "execution_count": 39,
   "metadata": {
    "collapsed": false
   },
   "outputs": [
    {
     "name": "stdout",
     "output_type": "stream",
     "text": [
      "[False, False]\n"
     ]
    }
   ],
   "source": [
    "u_1111 = four_way_from_ranking(ranking_7, 1111)\n",
    "print(u_1111)"
   ]
  }
 ],
 "metadata": {
  "anaconda-cloud": {},
  "kernelspec": {
   "display_name": "Python [Root]",
   "language": "python",
   "name": "Python [Root]"
  },
  "language_info": {
   "codemirror_mode": {
    "name": "ipython",
    "version": 3
   },
   "file_extension": ".py",
   "mimetype": "text/x-python",
   "name": "python",
   "nbconvert_exporter": "python",
   "pygments_lexer": "ipython3",
   "version": "3.5.2"
  }
 },
 "nbformat": 4,
 "nbformat_minor": 2
}

{
 "cells": [
  {
   "cell_type": "markdown",
   "metadata": {
    "collapsed": false
   },
   "source": [
    "Here, we present a collection of Sage functions for working with partial orders and linear forms in the context of genetic interaction studies. These are intended as a companion to the paper *Inferring genetic interactions from partial fitness orders* (Caitlin Lienkaemper, James Drain, Lisa Lamberti, Alex Gavryushkin, 2017, to appear). \n",
    "\n",
    "A public Sage worksheet containing everything can be found at https://cocalc.com/projects/c67c7038-6d14-4820-8f06-ba84fd2ff8e8/files/epistasis_and_posets_public.sagews. \n",
    "\n",
    "## Creating Posets \n",
    "\n",
    "For a thourough treatment how how Sage handles finite posets, see \n",
    "http://doc.sagemath.org/html/en/reference/combinat/sage/combinat/posets/posets.html. \n",
    "Sage can construct posets from (acyclic) directed graphs. For instance:\n"
   ]
  },
  {
   "cell_type": "code",
   "execution_count": 1,
   "metadata": {
    "collapsed": false
   },
   "outputs": [
   ],
   "source": [
    "\n",
    "posetwithepi=Poset(DiGraph([[0,1,10,11],[(10,0),(1,0),(1,11),(10,11)]],format='vertices_and_edges'))\n",
    "\n"
   ]
  },
  {
   "cell_type": "markdown",
   "metadata": {
    "collapsed": false
   },
   "source": [
    "Further, we can visualize the Hasse diagrams of posets nicely. "
   ]
  },
  {
   "cell_type": "code",
   "execution_count": 10,
   "metadata": {
    "collapsed": false
   },
   "outputs": [
    {
     "data": {
      "image/png": "[encoded data removed]"
     },
     "execution_count": 10,
     "metadata": {
     },
     "output_type": "execute_result"
    }
   ],
   "source": [
    "posetwithepi.show()"
   ]
  },
  {
   "cell_type": "markdown",
   "metadata": {
    "collapsed": false
   },
   "source": [
    "In addition to the build in functionality Sage has for posets, we have added a few poset functions which we found to be helpful. "
   ]
  },
  {
   "cell_type": "code",
   "execution_count": 15,
   "metadata": {
    "collapsed": false
   },
   "outputs": [
   ],
   "source": [
    "#imput: two partial orders\n",
    "#output: the intersection of the partial orders--that is, the partial order p in which x<y if and only if x<y in p1 and p2\n",
    "def poset_intersection(poset1, poset2):\n",
    "    #if poset1.list() != poset2.list():\n",
    "       # return \"error, posets are not on the same set of elements\"\n",
    "    elements = poset1.list()\n",
    "    list_of_edges = []\n",
    "    for x in elements:\n",
    "        for y in elements:\n",
    "            if poset1.is_less_than(x,y) and poset2.is_less_than(x,y):\n",
    "                list_of_edges.append((x,y))\n",
    "    return Poset(DiGraph([elements,list_of_edges], format = 'vertices_and_edges'))\n",
    "\n",
    "def intersection_gives_digraph(poset1, poset2):\n",
    "    elements = poset1.list()\n",
    "    list_of_edges = []\n",
    "    for x in elements:\n",
    "        for y in elements:\n",
    "            if poset1.is_less_than(x,y) and poset2.is_less_than(x,y):\n",
    "                list_of_edges.append((x,y))\n",
    "    return DiGraph([elements,list_of_edges], format = 'vertices_and_edges')\n",
    "    \n",
    "\n",
    "#checks if two total orders differ by one transposition or less \n",
    "def check_adjacency(list1, list2):\n",
    "    numswaps = 0\n",
    "    i=0\n",
    "    while i<(len(list1)-1):\n",
    "        if list1[i] == list2[i]:\n",
    "            i = i + 1\n",
    "        if list1[i] != list2[i]:\n",
    "            if numswaps == 0 and list1[i]==list2[i+1]:\n",
    "                if list1[i+1]==list2[i]:\n",
    "                    numswaps = numswaps+1\n",
    "                    i = i + 2\n",
    "                else: return false\n",
    "            else: return false\n",
    "    return true\n",
    "\n",
    "\n",
    "#makes a list of list into a list of strings\n",
    "def to_string(list_of_lists):\n",
    "    strings = []\n",
    "    for list in list_of_lists:\n",
    "        strings.append(str(list))\n",
    "    return strings\n",
    "\n",
    "#input: a poset\n",
    "#output: a graph whose vertices are the linear extensions of the poset. there is an edge on a pair of vertices if they are connected by a single adjacent transposition\n",
    "def linear_extensions_graph(poset):\n",
    "    extensions = poset.linear_extensions().list()\n",
    "    vertices = to_string(extensions)\n",
    "    edges = []\n",
    "    for ext1 in extensions:\n",
    "        for ext2 in extensions:\n",
    "            if check_adjacency(ext1, ext2):\n",
    "                edges.append((str(ext1),str(ext2)))\n",
    "    return Graph([vertices, edges])\n",
    "\n",
    "#input: a list\n",
    "#output: a finite poset which is the rank order from this list\n",
    "def rank_order_from_list(list):\n",
    "    vertices = list\n",
    "    edges = []\n",
    "    for i in range (len(list)-1):\n",
    "        edges.append((list[i], list[i+1]))\n",
    "    return Poset(DiGraph([vertices, edges]))"
   ]
  },
  {
   "cell_type": "markdown",
   "metadata": {
    "collapsed": false
   },
   "source": [
    "For instance, we can now create posets from rank orders very easily, and construct more complicated posets by intersecting these linear orders. For instance, consider the rank orders \n",
    "\n",
    "\\begin{align*}\n",
    "r_1: \\,w_{111} > w_{011} > w_{001} > w_{101} > w_{010} > w_{100} > w_{110} > w_{000}\\\\\n",
    "r_2: \\, w_{111} > w_{011} > w_{001} > w_{010} > w_{100} > w_{101} > w_{110} > w_{000}\\\\\n",
    "r_3: \\, w_{111} > w_{011} > w_{010} > w_{001} > w_{100} > w_{110} > w_{101} > w_{000}\\\\\n",
    "\\end{align*}\n",
    "\n",
    "obtained by measuring growth rates of the parasite *Plasmodium vivax* under the three highest concentrations tested of the antimalarial drug pyrimethamine. We can create a poset for each order using rank_order_from_list().\n",
    "\n"
   ]
  },
  {
   "cell_type": "code",
   "execution_count": 12,
   "metadata": {
    "collapsed": false
   },
   "outputs": [
    {
     "data": {
      "image/png": "[encoded data removed]"
     },
     "execution_count": 12,
     "metadata": {
     },
     "output_type": "execute_result"
    }
   ],
   "source": [
    "r1= [0,110,100,10,101, 1,11,111]\n",
    "r2= [0,110,101,100,10,1,11,111]\n",
    "r3= [0,101,110,100,1,10,11,111]\n",
    "order1 = rank_order_from_list(r1)\n",
    "order2 = rank_order_from_list(r2)\n",
    "order3 = rank_order_from_list(r3)\n",
    "intersection = poset_intersection(poset_intersection(order1, order2), order3)\n",
    "intersection.show()"
   ]
  },
  {
   "cell_type": "markdown",
   "metadata": {
    "collapsed": false
   },
   "source": [
    "We can find all linear extensions of this poset and draw the linear extensions graph (the graph with linear extensions as vertices and edges between linear extensions which differ by one adjacent transposition). "
   ]
  },
  {
   "cell_type": "code",
   "execution_count": 16,
   "metadata": {
    "collapsed": false
   },
   "outputs": [
    {
     "data": {
      "image/png": "[encoded data removed]"
     },
     "execution_count": 16,
     "metadata": {
     },
     "output_type": "execute_result"
    }
   ],
   "source": [
    "linear_extensions_graph(intersection).show()"
   ]
  },
  {
   "cell_type": "code",
   "execution_count": 24,
   "metadata": {
    "collapsed": false
   },
   "outputs": [
   ],
   "source": [
    "#Our efficient implementation for checking whether a partial order implies epistasis, and its helper functions\n",
    "#input: a directed graph, two labels, and a partition\n",
    "#output: a bipartite graph whose verties are the elments of the original directed graph. the partition in the graph is between vertices labeled with letter 1 and letter 2. there is an edge between vertex u labeled with letter1 and vertex v labeled with letter2 if there is a directed path from u to v\n",
    "def one_sided_comparability_bigraph(digraph, letter1, letter2, partition):\n",
    "    adjacency = {}\n",
    "    for vertex in digraph.vertices():\n",
    "        adjacency[vertex]=[]\n",
    "        if partition[vertex] == letter1:\n",
    "            reachable = list(digraph.breadth_first_search(vertex))\n",
    "            neighbors = []\n",
    "            for neighbor in reachable:\n",
    "                if partition[neighbor]==letter2:\n",
    "                    neighbors.append(neighbor)\n",
    "            adjacency[vertex]=neighbors\n",
    "    return Graph(adjacency)\n",
    "\n",
    "#input: a graph, a partition, and the partition labels\n",
    "#output: true if the graph has a perfect matching and false otherwise\n",
    "def check_matching(graph, partition, letter1, letter2):\n",
    "    copy = Graph(graph)\n",
    "    size = len(graph.vertices())/2\n",
    "    for vertex in copy.vertices():\n",
    "        if partition[vertex]==letter1:\n",
    "            copy.add_edge('s', vertex)\n",
    "        if partition[vertex]==letter2:\n",
    "            copy.add_edge('t', vertex)\n",
    "    max_flow = int(copy.flow('s','t'))\n",
    "    if size == max_flow:\n",
    "        return true\n",
    "\n",
    "#input: a directed graph, a partition on the vertices, and the labels used in the partition\n",
    "#output: \"positive epistasis implied\", \"negative epistasis implied\", \"no epistasis implied\" \n",
    "def quick_epistasis_check(digraph, partition, letter1, letter2):\n",
    "    bigraph1 = one_sided_comparability_bigraph(digraph, letter1, letter2, partition)\n",
    "    if check_matching(bigraph1, partition, letter1, letter2):\n",
    "        return -1\n",
    "    bigraph2 = one_sided_comparability_bigraph(digraph, letter2, letter1, partition)\n",
    "    if check_matching(bigraph2, partition, letter1, letter2):\n",
    "        return 1\n",
    "    else:\n",
    "        return 0\n",
    "    "
   ]
  },
  {
   "cell_type": "markdown",
   "metadata": {
    "collapsed": false
   },
   "source": [
    "For instance, we can check whether the partial order we got by intersecting the three rank orders coming from our *plasmodium vivax* example implies interaction. First, we need to define a partition based off of our linear form, \n",
    "\n",
    "$$f(\\bar w) = w_{000} + w_{011} + w_{101} + w_{110} - w_{001} - w_{010} - w_{100} - w_{111}.$$\n",
    "\n",
    "That is, we want to assign the elements with positive coefficients to one class and the elements with negative coefficients to the other. \n",
    "\n"
   ]
  },
  {
   "cell_type": "code",
   "execution_count": 21,
   "metadata": {
    "collapsed": false
   },
   "outputs": [
   ],
   "source": [
    "partition3={0: \"P\", 1: \"N\", 10:\"N\", 11:\"P\", 100:\"N\", 101:\"P\", 110:\"P\", 111:\"N\"}\n"
   ]
  },
  {
   "cell_type": "markdown",
   "metadata": {
    "collapsed": true
   },
   "source": [
    "Now, we run quick_epistasis_check() and get an answer. "
   ]
  },
  {
   "cell_type": "code",
   "execution_count": 25,
   "metadata": {
    "collapsed": false
   },
   "outputs": [
    {
     "data": {
      "text/plain": [
       "-1"
      ]
     },
     "execution_count": 25,
     "metadata": {
     },
     "output_type": "execute_result"
    }
   ],
   "source": [
    "quick_epistasis_check(intersection.hasse_diagram(), partition3, \"P\", \"N\")"
   ]
  },
  {
   "cell_type": "markdown",
   "metadata": {
    "collapsed": false
   },
   "source": [
    "Since the function returns -1, we see that this partial order implies negative $f$-interaction. That is, for any choice of $\\bar w$ compatible with this partial order, $f(\\bar w)<0$. "
   ]
  },
  {
   "cell_type": "markdown",
   "metadata": {
    "collapsed": false
   },
   "source": [
    "# Counting partial orders which imply interaction\n",
    "\n",
    "Using this work we are able to count partial orders on 2, 4, 6, and 8 elements which imply interaction. "
   ]
  },
  {
   "cell_type": "code",
   "execution_count": 26,
   "metadata": {
    "collapsed": false
   },
   "outputs": [
   ],
   "source": [
    "# Our function for computing the proportion of partial orders on n elements which imply epistasis \n",
    "# would not reccomend using with n>8\n",
    "# or n odd\n",
    "\n",
    "#input: an even number n \n",
    "#output: a list containing each dictionary on the elements 0, ..., n-1 such that n/2 of the keys have the value 1 and the other n/2 have the value 0\n",
    "def bipartitions(n):\n",
    "    partitions_n = []\n",
    "    for subset in Subsets(n, n/2):\n",
    "        partition = {}\n",
    "        for x in range (0, n):\n",
    "            if x+1 in subset:\n",
    "                partition[x]=1\n",
    "            else: partition[x]=0\n",
    "        partitions_n.append(partition)\n",
    "    return partitions_n\n",
    "\n",
    "#input: an even number. quick for n = 2, 4, 6, takes ~2 hours for n=8; with good luck, might finish n=10 this century\n",
    "#output: a tuple containining the number of posets \n",
    "def prop_implying_epistasis(n):\n",
    "    count_pos = 0\n",
    "    count_neg = 0\n",
    "    count_none = 0\n",
    "    posets_n = Posets(n)\n",
    "    offset = factorial(n/2)^2\n",
    "    for poset in posets_n:\n",
    "        hasse = poset.hasse_diagram()\n",
    "        auto = hasse.automorphism_group().cardinality()\n",
    "        for bipartition in bipartitions(n):\n",
    "            if quick_epistasis_check(hasse, bipartition, 0, 1)==1:\n",
    "                count_pos = count_pos + 1/auto\n",
    "            elif quick_epistasis_check(hasse, bipartition, 0, 1)==-1:\n",
    "                count_neg = count_neg+1/auto\n",
    "            else: count_none = count_none+1/auto\n",
    "    return (count_pos*offset, count_neg*offset, count_none*offset)"
   ]
  },
  {
   "cell_type": "markdown",
   "metadata": {
    "collapsed": false
   },
   "source": [
    "For instance, we can find the number of partial orders on 4 elements implying $f$-interaction very quickly: "
   ]
  },
  {
   "cell_type": "code",
   "execution_count": 27,
   "metadata": {
    "collapsed": false
   },
   "outputs": [
    {
     "data": {
      "text/plain": [
       "(31, 31, 157)"
      ]
     },
     "execution_count": 27,
     "metadata": {
     },
     "output_type": "execute_result"
    }
   ],
   "source": [
    "prop_implying_epistasis(4)"
   ]
  },
  {
   "cell_type": "markdown",
   "metadata": {
    "collapsed": false
   },
   "source": [
    "This output means that on 4 elments, there are 31 posets that imply positive interaction, 31 posets that imply negative interaction, and 157 posets that do not imply interaction. "
   ]
  },
  {
   "cell_type": "code",
   "execution_count": 0,
   "metadata": {
    "collapsed": false
   },
   "outputs": [
   ],
   "source": [
   ]
  }
 ],
 "metadata": {
  "kernelspec": {
   "display_name": "SageMath (stable)",
   "name": "sagemath"
  },
  "language_info": {
   "codemirror_mode": {
    "name": "ipython",
    "version": 2
   },
   "file_extension": ".py",
   "mimetype": "text/x-python",
   "name": "python",
   "nbconvert_exporter": "python",
   "pygments_lexer": "ipython2",
   "version": "2.7.13"
  }
 },
 "nbformat": 4,
 "nbformat_minor": 0
}
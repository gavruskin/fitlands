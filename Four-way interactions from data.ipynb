{
 "cells": [
  {
   "cell_type": "code",
   "execution_count": 1,
   "metadata": {
    "collapsed": true
   },
   "outputs": [],
   "source": [
    "#Our efficient implementation for checking whether a partial order implies epistasis, and its helper functions\n",
    "#input: a directed graph, two labels, and a partition\n",
    "#output: a bipartite graph whose verties are the elments of the original directed graph. the partition in the graph is between vertices labeled with letter 1 and letter 2. there is an edge between vertex u labeled with letter1 and vertex v labeled with letter2 if there is a directed path from u to v\n",
    "def one_sided_comparability_bigraph(digraph, letter1, letter2, partition):\n",
    "    adjacency = {}\n",
    "    for vertex in digraph.vertices():\n",
    "        adjacency[vertex]=[]\n",
    "        if partition[vertex] == letter1:\n",
    "            reachable = list(digraph.breadth_first_search(vertex))\n",
    "            neighbors = []\n",
    "            for neighbor in reachable:\n",
    "                if partition[neighbor]==letter2:\n",
    "                    neighbors.append(neighbor)\n",
    "            adjacency[vertex]=neighbors\n",
    "    return Graph(adjacency)\n",
    "\n",
    "#input: a graph, a partition, and the partition labels\n",
    "#output: true if the graph has a perfect matching and false otherwise\n",
    "def check_matching(graph, partition, letter1, letter2):\n",
    "    copy = Graph(graph)\n",
    "    size = len(graph.vertices())/2\n",
    "    for vertex in copy.vertices():\n",
    "        if partition[vertex]==letter1:\n",
    "            copy.add_edge('s', vertex)\n",
    "        if partition[vertex]==letter2:\n",
    "            copy.add_edge('t', vertex)\n",
    "    max_flow = int(copy.flow('s','t'))\n",
    "    if size == max_flow:\n",
    "        return true\n",
    "\n",
    "#input: a directed graph, a partition on the vertices, and the labels used in the partition\n",
    "#output: \"positive epistasis implied\", \"negative epistasis implied\", \"no epistasis implied\" \n",
    "def quick_epistasis_check(digraph, partition, letter1, letter2):\n",
    "    bigraph1 = one_sided_comparability_bigraph(digraph, letter1, letter2, partition)\n",
    "    if check_matching(bigraph1, partition, letter1, letter2):\n",
    "        return -1\n",
    "    bigraph2 = one_sided_comparability_bigraph(digraph, letter2, letter1, partition)\n",
    "    if check_matching(bigraph2, partition, letter1, letter2):\n",
    "        return 1\n",
    "    else:\n",
    "        return 0\n",
    "    "
   ]
  },
  {
   "cell_type": "code",
   "execution_count": 8,
   "metadata": {
    "collapsed": false
   },
   "outputs": [],
   "source": [
    "poset_data = Poset(DiGraph([[0, 1, 10, 11, 100, 101, 110, 111,\n",
    "                             1000, 1001, 1010, 1011, 1100, 1101, 1110, 1111],\n",
    "                            [(1000,0), (10,0), (100,0), (1,0),\n",
    "                            (1100,1000), (1100,10), (1010,1000), (1010,10),\n",
    "                            (1001,1000), (1001,1), (110,10), (110,100),\n",
    "                            (101,100), (101,1), (11,100), (11,1),\n",
    "                            (1110,1100), (1110,1010), (1110,110), (1101,1100),\n",
    "                            (1101,1001), (1101,101), (1011,1001), (1011,110),\n",
    "                            (1011,11), (111,110), (111,101), (111,11),\n",
    "                            (1111,1110), (1111,1101), (1111,1011), (1111,111)]],\n",
    "                           format='vertices_and_edges'))"
   ]
  },
  {
   "cell_type": "code",
   "execution_count": 9,
   "metadata": {
    "collapsed": true
   },
   "outputs": [],
   "source": [
    "u_0011 = {0: \"P\", 100: \"P\", 1000: \"P\", 1100: \"P\", 11: \"P\", 111: \"P\", 1011: \"P\", 1111: \"P\",\n",
    "         1: \"N\", 101: \"N\", 1001: \"N\", 1101: \"N\", 10: \"N\", 110: \"N\", 1010: \"N\", 1110: \"N\"}\n",
    "u_0101 = {0: \"P\", 10: \"P\", 1000: \"P\", 1010: \"P\", 101: \"P\", 111: \"P\", 1101: \"P\", 1111: \"P\",\n",
    "         1: \"N\", 11: \"N\", 1001: \"N\", 1011: \"N\", 100: \"N\", 110: \"N\", 1100: \"N\", 1110: \"N\"}\n",
    "u_0110 = {0: \"P\", 1: \"P\", 1000: \"P\", 1001: \"P\", 110: \"P\", 111: \"P\", 1110: \"P\", 1111: \"P\",\n",
    "         10: \"N\", 11: \"N\", 1010: \"N\", 1011: \"N\", 100: \"N\", 101: \"N\", 1100: \"N\", 1101: \"N\"}\n",
    "u_1001 = {0: \"P\", 10: \"P\", 100: \"P\", 110: \"P\", 1001: \"P\", 1011: \"P\", 1101: \"P\", 1111: \"P\",\n",
    "         1: \"N\", 11: \"N\", 101: \"N\", 111: \"N\", 1000: \"N\", 1010: \"N\", 1100: \"N\", 1110: \"N\"}\n",
    "u_1010 = {0: \"P\", 1: \"P\", 100: \"P\", 101: \"P\", 1010: \"P\", 1011: \"P\", 1110: \"P\", 1111: \"P\",\n",
    "         10: \"N\", 11: \"N\", 110: \"N\", 111: \"N\", 1000: \"N\", 1001: \"N\", 1100: \"N\", 1101: \"N\"}\n",
    "u_1100 = {0: \"P\", 1: \"P\", 10: \"P\", 11: \"P\", 1100: \"P\", 1101: \"P\", 1110: \"P\", 1111: \"P\",\n",
    "         100: \"N\", 101: \"N\", 110: \"N\", 111: \"N\", 1000: \"N\", 1001: \"N\", 1010: \"N\", 1011: \"N\"}\n",
    "u_0111 = {0: \"P\", 1000: \"P\", 11: \"P\", 1011: \"P\", 101: \"P\", 1101: \"P\", 110: \"P\", 1110: \"P\",\n",
    "         1: \"N\", 1001: \"N\", 10: \"N\", 1010: \"N\", 100: \"N\", 1100: \"N\", 111: \"N\", 1111: \"N\"}\n",
    "u_1011 = {0: \"P\", 100: \"P\", 11: \"P\", 111: \"P\", 1001: \"P\", 1101: \"P\", 1010: \"P\", 1110: \"P\",\n",
    "         1: \"N\", 101: \"N\", 10: \"N\", 110: \"N\", 1000: \"N\", 1100: \"N\", 1011: \"N\", 1111: \"N\"}\n",
    "u_1101 = {0: \"P\", 10: \"P\", 101: \"P\", 111: \"P\", 1001: \"P\", 1011: \"P\", 1100: \"P\", 1110: \"P\",\n",
    "         1: \"N\", 11: \"N\", 100: \"N\", 110: \"N\", 1000: \"N\", 1010: \"N\", 1101: \"N\", 1111: \"N\"}\n",
    "u_1110 = {0: \"P\", 1: \"P\", 110: \"P\", 111: \"P\", 1010: \"P\", 1011: \"P\", 1100: \"P\", 1101: \"P\",\n",
    "         10: \"N\", 11: \"N\", 100: \"N\", 101: \"N\", 1000: \"N\", 1001: \"N\", 1110: \"N\", 1111: \"N\"}\n",
    "u_1111 = {0: \"P\", 11: \"P\", 101: \"P\", 110: \"P\", 1001: \"P\", 1010: \"P\", 1100: \"P\", 1111: \"P\",\n",
    "         1: \"N\", 10: \"N\", 100: \"N\", 1000: \"N\", 111: \"N\", 1011: \"N\", 1101: \"N\", 1110: \"N\"}"
   ]
  },
  {
   "cell_type": "code",
   "execution_count": 14,
   "metadata": {
    "collapsed": false
   },
   "outputs": [
    {
     "data": {
      "text/plain": [
       "0"
      ]
     },
     "execution_count": 14,
     "metadata": {},
     "output_type": "execute_result"
    }
   ],
   "source": [
    "quick_epistasis_check(poset_data.hasse_diagram(), u_0011, \"P\", \"N\")"
   ]
  },
  {
   "cell_type": "code",
   "execution_count": 13,
   "metadata": {
    "collapsed": false
   },
   "outputs": [
    {
     "data": {
      "text/plain": [
       "0"
      ]
     },
     "execution_count": 13,
     "metadata": {},
     "output_type": "execute_result"
    }
   ],
   "source": [
    "quick_epistasis_check(poset_data.hasse_diagram(), u_0101, \"P\", \"N\")"
   ]
  },
  {
   "cell_type": "code",
   "execution_count": 15,
   "metadata": {
    "collapsed": false
   },
   "outputs": [
    {
     "data": {
      "text/plain": [
       "0"
      ]
     },
     "execution_count": 15,
     "metadata": {},
     "output_type": "execute_result"
    }
   ],
   "source": [
    "quick_epistasis_check(poset_data.hasse_diagram(), u_0110, \"P\", \"N\")"
   ]
  },
  {
   "cell_type": "code",
   "execution_count": 16,
   "metadata": {
    "collapsed": false
   },
   "outputs": [
    {
     "data": {
      "text/plain": [
       "0"
      ]
     },
     "execution_count": 16,
     "metadata": {},
     "output_type": "execute_result"
    }
   ],
   "source": [
    "quick_epistasis_check(poset_data.hasse_diagram(), u_1001, \"P\", \"N\")"
   ]
  },
  {
   "cell_type": "code",
   "execution_count": 17,
   "metadata": {
    "collapsed": false
   },
   "outputs": [
    {
     "data": {
      "text/plain": [
       "0"
      ]
     },
     "execution_count": 17,
     "metadata": {},
     "output_type": "execute_result"
    }
   ],
   "source": [
    "quick_epistasis_check(poset_data.hasse_diagram(), u_1010, \"P\", \"N\")"
   ]
  },
  {
   "cell_type": "code",
   "execution_count": 18,
   "metadata": {
    "collapsed": false
   },
   "outputs": [
    {
     "data": {
      "text/plain": [
       "0"
      ]
     },
     "execution_count": 18,
     "metadata": {},
     "output_type": "execute_result"
    }
   ],
   "source": [
    "quick_epistasis_check(poset_data.hasse_diagram(), u_1100, \"P\", \"N\")"
   ]
  },
  {
   "cell_type": "code",
   "execution_count": 19,
   "metadata": {
    "collapsed": false
   },
   "outputs": [
    {
     "data": {
      "text/plain": [
       "0"
      ]
     },
     "execution_count": 19,
     "metadata": {},
     "output_type": "execute_result"
    }
   ],
   "source": [
    "quick_epistasis_check(poset_data.hasse_diagram(), u_0111, \"P\", \"N\")"
   ]
  },
  {
   "cell_type": "code",
   "execution_count": 20,
   "metadata": {
    "collapsed": false
   },
   "outputs": [
    {
     "data": {
      "text/plain": [
       "0"
      ]
     },
     "execution_count": 20,
     "metadata": {},
     "output_type": "execute_result"
    }
   ],
   "source": [
    "quick_epistasis_check(poset_data.hasse_diagram(), u_1011, \"P\", \"N\")"
   ]
  },
  {
   "cell_type": "code",
   "execution_count": 21,
   "metadata": {
    "collapsed": false
   },
   "outputs": [
    {
     "data": {
      "text/plain": [
       "0"
      ]
     },
     "execution_count": 21,
     "metadata": {},
     "output_type": "execute_result"
    }
   ],
   "source": [
    "quick_epistasis_check(poset_data.hasse_diagram(), u_1101, \"P\", \"N\")"
   ]
  },
  {
   "cell_type": "code",
   "execution_count": 22,
   "metadata": {
    "collapsed": false
   },
   "outputs": [
    {
     "data": {
      "text/plain": [
       "0"
      ]
     },
     "execution_count": 22,
     "metadata": {},
     "output_type": "execute_result"
    }
   ],
   "source": [
    "quick_epistasis_check(poset_data.hasse_diagram(), u_1110, \"P\", \"N\")"
   ]
  },
  {
   "cell_type": "code",
   "execution_count": 23,
   "metadata": {
    "collapsed": false
   },
   "outputs": [
    {
     "data": {
      "text/plain": [
       "0"
      ]
     },
     "execution_count": 23,
     "metadata": {},
     "output_type": "execute_result"
    }
   ],
   "source": [
    "quick_epistasis_check(poset_data.hasse_diagram(), u_1111, \"P\", \"N\")"
   ]
  }
 ],
 "metadata": {
  "kernelspec": {
   "display_name": "SageMath 7.5.1",
   "language": "",
   "name": "sagemath"
  },
  "language_info": {
   "codemirror_mode": {
    "name": "ipython",
    "version": 2
   },
   "file_extension": ".py",
   "mimetype": "text/x-python",
   "name": "python",
   "nbconvert_exporter": "python",
   "pygments_lexer": "ipython2",
   "version": "2.7.13"
  }
 },
 "nbformat": 4,
 "nbformat_minor": 0
}
